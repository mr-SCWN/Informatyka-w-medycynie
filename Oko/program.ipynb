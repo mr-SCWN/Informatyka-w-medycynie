{
 "cells": [
  {
   "cell_type": "code",
   "outputs": [],
   "source": [
    "import cv2\n",
    "import skimage\n",
    "\n",
    "\n",
    "def prepare_imaage(image_path):\n",
    "    img_grayscale = cv2.imread(image_path, cv2.IMREAD_COLOR).cvtColor(cv2.COLOR_BGR2GRAY)\n",
    "    img_unsharped_mask = skimage.util.img_as_ubyte(skimage.filters.unsharp_mask(img_grayscale, radius=1, amount=1))\n",
    "    img_normalised = skimage.util.img_as_ubyte(skimage.exposure.equalize_adapthist(img_unsharped_mask, clip_limit=0.01))"
   ],
   "metadata": {
    "collapsed": false
   },
   "id": "e8b7f61e3fe8410d"
  },
  {
   "cell_type": "code",
   "outputs": [],
   "source": [],
   "metadata": {
    "collapsed": false
   },
   "id": "c394c72927ee9735"
  }
 ],
 "metadata": {
  "kernelspec": {
   "display_name": "Python 3",
   "language": "python",
   "name": "python3"
  },
  "language_info": {
   "codemirror_mode": {
    "name": "ipython",
    "version": 2
   },
   "file_extension": ".py",
   "mimetype": "text/x-python",
   "name": "python",
   "nbconvert_exporter": "python",
   "pygments_lexer": "ipython2",
   "version": "2.7.6"
  }
 },
 "nbformat": 4,
 "nbformat_minor": 5
}
