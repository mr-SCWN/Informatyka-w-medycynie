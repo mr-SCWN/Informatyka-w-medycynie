{
 "cells": [
  {
   "cell_type": "markdown",
   "id": "7aa69183-034b-4432-82c4-863614b2ae57",
   "metadata": {},
   "source": [
    "# Informatyka w medycynie\n",
    "\n",
    "## **Tomograf**\n",
    "\n",
    "*Grupa dwuosobowa: Ivan Kaliadzich 153936, Mikołaj Diakowski 151843*"
   ]
  },
  {
   "cell_type": "code",
   "execution_count": 9,
   "id": "8897b26c-6575-4e86-8b53-e81f232f20ac",
   "metadata": {},
   "outputs": [],
   "source": [
    "import numpy as np\n",
    "import cv2\n",
    "import matplotlib.pyplot as plt\n",
    "import pydicom as pd\n",
    "from pydicom.dataset import FileDataset, FileMetaDataset, validate_file_meta\n",
    "from pydicom.uid import UID, generate_uid\n",
    "from PIL import Image\n",
    "import math\n",
    "# inicjalizacja zmiennych\n",
    "dx =1.0\n",
    "d_a = dx*math.pi/180\n",
    "range=math.pi #rozpiętość układu\n",
    "detectors=180\n",
    "filter = True"
   ]
  },
  {
   "cell_type": "markdown",
   "id": "26e09afb-9bb5-467c-b5f8-350ee9dc271d",
   "metadata": {},
   "source": [
    "### Transformacja Radona"
   ]
  },
  {
   "cell_type": "code",
   "execution_count": null,
   "id": "b3123b85-6970-48c3-b6e7-aaa3e9b9679b",
   "metadata": {},
   "outputs": [],
   "source": []
  },
  {
   "cell_type": "markdown",
   "id": "b02428de-c0b4-44b6-b9b3-bcddc4f764f5",
   "metadata": {},
   "source": [
    "### Projekcja wsteczna"
   ]
  },
  {
   "cell_type": "code",
   "execution_count": null,
   "id": "79f1ad3d-abfe-42bf-9e26-a4fea41fc1ae",
   "metadata": {},
   "outputs": [],
   "source": []
  },
  {
   "cell_type": "markdown",
   "id": "7299710c-2e13-45e3-8611-ddb69e6932db",
   "metadata": {},
   "source": [
    "### Filtrowanie"
   ]
  },
  {
   "cell_type": "code",
   "execution_count": null,
   "id": "6101ed92-0099-4156-9150-d86273dd01ec",
   "metadata": {},
   "outputs": [],
   "source": []
  },
  {
   "cell_type": "markdown",
   "id": "4e679c8d-fe4c-4605-967b-8fe91c9fb1bd",
   "metadata": {},
   "source": [
    "### Algorytm Bresenhama"
   ]
  },
  {
   "cell_type": "code",
   "execution_count": null,
   "id": "f335204e-d7f4-4366-a918-4de7b5b5562a",
   "metadata": {},
   "outputs": [],
   "source": []
  },
  {
   "cell_type": "markdown",
   "id": "e3fb181b-fc98-42de-a315-3add28111b0a",
   "metadata": {},
   "source": [
    "## Suwaki i dobieranie wartości zmiennych"
   ]
  },
  {
   "cell_type": "code",
   "execution_count": null,
   "id": "15b4fbb9-7004-44b5-9bfd-22403d5c9684",
   "metadata": {},
   "outputs": [],
   "source": []
  },
  {
   "cell_type": "markdown",
   "id": "3ac7a1b7-8538-4f7d-a5ef-525788ca3098",
   "metadata": {},
   "source": [
    "## Wykresy:"
   ]
  },
  {
   "cell_type": "code",
   "execution_count": null,
   "id": "a59d5fa9-146d-49b7-aa3c-992070a28505",
   "metadata": {},
   "outputs": [],
   "source": []
  }
 ],
 "metadata": {
  "kernelspec": {
   "display_name": "Python 3 (ipykernel)",
   "language": "python",
   "name": "python3"
  },
  "language_info": {
   "codemirror_mode": {
    "name": "ipython",
    "version": 3
   },
   "file_extension": ".py",
   "mimetype": "text/x-python",
   "name": "python",
   "nbconvert_exporter": "python",
   "pygments_lexer": "ipython3",
   "version": "3.9.13"
  }
 },
 "nbformat": 4,
 "nbformat_minor": 5
}
