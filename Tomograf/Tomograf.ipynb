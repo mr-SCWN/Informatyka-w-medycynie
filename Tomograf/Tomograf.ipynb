{
 "cells": [
  {
   "cell_type": "markdown",
   "id": "7aa69183-034b-4432-82c4-863614b2ae57",
   "metadata": {},
   "source": [
    "# **Informatyka w medycynie**\n",
    "\n",
    "# Tomograf\n",
    "\n",
    "*Grupa dwuosobowa: Ivan Kaliadzich 153936, Mikołaj Diakowski 151843*"
   ]
  },
  {
   "cell_type": "markdown",
   "id": "0326364f-8b46-4f55-9529-a7d448b0186b",
   "metadata": {},
   "source": [
    "### Dodawanie bibliotek i inicjalizacja zmiennych"
   ]
  },
  {
   "cell_type": "code",
   "execution_count": 14,
   "id": "8897b26c-6575-4e86-8b53-e81f232f20ac",
   "metadata": {
    "ExecuteTime": {
     "end_time": "2024-03-24T13:28:56.013579Z",
     "start_time": "2024-03-24T13:28:56.004460Z"
    }
   },
   "outputs": [],
   "source": [
    "import math\n",
    "\n",
    "import imageio.v2 as imageio\n",
    "import ipywidgets as widgets\n",
    "import numpy as np\n",
    "import pydicom\n",
    "import pydicom._storage_sopclass_uids\n",
    "import matplotlib.pyplot as plt\n",
    "from ipywidgets import interact\n",
    "from pydicom.uid import UID\n",
    "from scipy import signal\n",
    "\n",
    "# inicjalizacja zmiennych\n",
    "d_x = 1.0 # krok x\n",
    "d_a = d_x*math.pi/180 # krok alfa\n",
    "range_pi=math.pi # rozbieżność detektorów\n",
    "n_detect=180 # liczba detektorów\n",
    "filter=True # filtrowanie"
   ]
  },
  {
   "cell_type": "markdown",
   "id": "26e09afb-9bb5-467c-b5f8-350ee9dc271d",
   "metadata": {},
   "source": [
    "### Algorytm Bresenhama"
   ]
  },
  {
   "cell_type": "code",
   "execution_count": 15,
   "id": "b3123b85-6970-48c3-b6e7-aaa3e9b9679b",
   "metadata": {
    "ExecuteTime": {
     "end_time": "2024-03-24T13:28:56.188172Z",
     "start_time": "2024-03-24T13:28:56.176635Z"
    }
   },
   "outputs": [],
   "source": [
    "def bresenham_algorithm(x0, y0, x1, y1):\n",
    "    x = x0\n",
    "    y= y0\n",
    "    points = []\n",
    "    if x0 < x1:\n",
    "        xi = 1\n",
    "        dx = x1 - x0\n",
    "    else:\n",
    "        xi = -1\n",
    "        dx = x0 - x1\n",
    "    if y0 < y1:\n",
    "        yi = 1\n",
    "        dy = y1 - y0\n",
    "    else: \n",
    "        yi = -1\n",
    "        dy = y0 - y1\n",
    "\n",
    "    points.append((x,y))\n",
    "\n",
    "    if dx > dy:\n",
    "        ai = (dy - dx) * 2\n",
    "        bi = dy*2\n",
    "        d = bi-dx\n",
    "        while x!=x1:\n",
    "            if d>= 0:\n",
    "                x+=xi\n",
    "                y+=yi\n",
    "                d+=ai\n",
    "            else:\n",
    "                d+=bi\n",
    "                x+=xi\n",
    "            points.append((x,y))\n",
    "    else:\n",
    "        ai = (dx - dy) * 2\n",
    "        bi = dx * 2\n",
    "        d = bi - dy\n",
    "        while y != y1:\n",
    "            if d >= 1:\n",
    "                x+=xi\n",
    "                y+=yi\n",
    "                d+=ai\n",
    "            else:\n",
    "                d+=bi\n",
    "                y+=yi\n",
    "            points.append((x,y))\n",
    "\n",
    "    return points"
   ]
  },
  {
   "cell_type": "markdown",
   "id": "4e679c8d-fe4c-4605-967b-8fe91c9fb1bd",
   "metadata": {},
   "source": [
    "### Transformacja Radona"
   ]
  },
  {
   "cell_type": "code",
   "execution_count": 16,
   "id": "6101ed92-0099-4156-9150-d86273dd01ec",
   "metadata": {
    "ExecuteTime": {
     "end_time": "2024-03-24T13:28:56.216501Z",
     "start_time": "2024-03-24T13:28:56.197193Z"
    }
   },
   "outputs": [],
   "source": [
    "def radon_transform(photo, d_a, range_pi, detectors_number, d_x):\n",
    "    alfa = math.pi / 2\n",
    "    n = math.ceil(180 /d_x) + 1\n",
    "    detectors = [[0,0] for _ in range(detectors_number)]\n",
    "    emiters = [[0,0] for _ in range(detectors_number)]\n",
    "    length = len(photo)\n",
    "    width = len(photo[0])\n",
    "    r = math.floor(math.sqrt(length*length+width*width)/2)\n",
    "\n",
    "    photo1 = [[0 for _ in range(r*2)] for __ in range(r*2)]\n",
    "    l, w = photo.shape\n",
    "    y_off = round((r * 2 - l)/2)\n",
    "    x_off = round((r * 2 - w)/2)\n",
    "    photo1= np.array(photo1.copy())\n",
    "    photo1[y_off:y_off+l, x_off:x_off+w] = photo\n",
    "\n",
    "    sinogram=[]\n",
    "\n",
    "    for i in range(n):\n",
    "        str = [0 for _ in range(detectors_number)]\n",
    "        for j in range(detectors_number):\n",
    "            x = r * math.cos(alfa + math.pi - (1/2) * range_pi + j * (range_pi / (detectors_number - 1)) + (i * d_a))\n",
    "            y = r * math.sin(alfa + math.pi - (1/2) * range_pi + j * (range_pi / (detectors_number - 1)) + (i * d_a))\n",
    "            \n",
    "            detectors[j] = [round(x), round(y)]\n",
    "            x_e  = r*math.cos(alfa + (1/2) * range_pi - j * (range_pi / (detectors_number - 1)) + (i * d_a))\n",
    "            y_e = r*math.sin(alfa + (1/2) * range_pi - j * (range_pi / (detectors_number - 1)) + (i * d_a))\n",
    "            emiters[j]=[round(x_e),round(y_e)]\n",
    "            points = bresenham_algorithm(emiters[j][0], emiters[j][1], detectors[j][0], detectors[j][1])\n",
    "            k =1\n",
    "\n",
    "            for x_p ,y_p in points:\n",
    "                if x_off < x_p + r < x_off + w and y_off < y_p + r < y_off + l:\n",
    "                    str[j] += photo1[x_p + r - 1][y_p + r - 1]\n",
    "                    k+=1 \n",
    "\n",
    "            if k > 1:\n",
    "                k -= 1\n",
    "            str[j] /= k\n",
    "\n",
    "        sinogram.append(str)\n",
    "\n",
    "    sinogram = np.rot90(sinogram, 1, axes=(0,1))\n",
    "    return sinogram"
   ]
  },
  {
   "cell_type": "markdown",
   "id": "b02428de-c0b4-44b6-b9b3-bcddc4f764f5",
   "metadata": {},
   "source": [
    "### Projekcja wsteczna"
   ]
  },
  {
   "cell_type": "code",
   "execution_count": 17,
   "id": "79f1ad3d-abfe-42bf-9e26-a4fea41fc1ae",
   "metadata": {
    "ExecuteTime": {
     "end_time": "2024-03-24T13:28:56.236037Z",
     "start_time": "2024-03-24T13:28:56.225036Z"
    }
   },
   "outputs": [],
   "source": [
    "def back_projection(sinogram, d_x):\n",
    "    x = np.arange(sinogram.shape[0]) - sinogram.shape[0] / 2 \n",
    "    y = x.copy()\n",
    "    ox, oy = np.meshgrid(x, y)\n",
    "    projection  = []\n",
    "    num  = sinogram.shape[0]\n",
    "    reconstruction = np.array([[0 for _ in range(num)] for __ in range(num)])\n",
    "    angle = np.arange(0.0,180,d_x)*(-1)*math.pi/180\n",
    "\n",
    "    for j in range(len(angle)):\n",
    "        _projection = np.array([[0 for i in range(num)] for j in range(num )])\n",
    "        rot = ox*math.sin(angle[j])-oy*math.cos(angle[j])\n",
    "        punkty = np.round(rot + num /2)\n",
    "        punkty = punkty.astype('int')\n",
    "        p1, p2 = np.where((punkty>=0) & (punkty<num))\n",
    "        linia = sinogram[:,j-1]\n",
    "        _projection[p1,p2] = linia[punkty[p1,p2]] \n",
    "        reconstruction += _projection\n",
    "        projection.append(_projection)\n",
    "        \n",
    "    reconstruction = reconstruction//len(angle)    \n",
    "    return reconstruction, projection "
   ]
  },
  {
   "cell_type": "markdown",
   "id": "7299710c-2e13-45e3-8611-ddb69e6932db",
   "metadata": {},
   "source": [
    "### Filtrowanie"
   ]
  },
  {
   "cell_type": "code",
   "execution_count": 18,
   "id": "f335204e-d7f4-4366-a918-4de7b5b5562a",
   "metadata": {
    "ExecuteTime": {
     "end_time": "2024-03-24T13:28:56.267453Z",
     "start_time": "2024-03-24T13:28:56.261458Z"
    }
   },
   "outputs": [],
   "source": [
    "def filtration(sinogram):\n",
    "    h = np.array([[-1,-1,-1],[-1,9,-1],[-1,-1,-1],], dtype = 'float')\n",
    "    filter_photo = signal.convolve2d(sinogram,h)\n",
    "    filter_photo=filter_photo[2:-2,2:-2]\n",
    "    return filter_photo"
   ]
  },
  {
   "cell_type": "markdown",
   "id": "e3fb181b-fc98-42de-a315-3add28111b0a",
   "metadata": {},
   "source": [
    "### Suwaki i dobieranie wartości zmiennych"
   ]
  },
  {
   "cell_type": "code",
   "execution_count": 19,
   "id": "15b4fbb9-7004-44b5-9bfd-22403d5c9684",
   "metadata": {
    "ExecuteTime": {
     "end_time": "2024-03-24T13:28:56.374393Z",
     "start_time": "2024-03-24T13:28:56.292511Z"
    }
   },
   "outputs": [
    {
     "data": {
      "text/plain": "interactive(children=(FloatSlider(value=1.0, description='Krok alfa:', max=5.0, min=0.25, step=0.25), Output()…",
      "application/vnd.jupyter.widget-view+json": {
       "version_major": 2,
       "version_minor": 0,
       "model_id": "8b5ea82c0d8b4c71b4e2afb39561b852"
      }
     },
     "metadata": {},
     "output_type": "display_data"
    },
    {
     "data": {
      "text/plain": "interactive(children=(IntSlider(value=180, description='Liczba detektorów:', max=500, min=10, step=10), Output…",
      "application/vnd.jupyter.widget-view+json": {
       "version_major": 2,
       "version_minor": 0,
       "model_id": "a968d5a0d54141a4877a040999b78619"
      }
     },
     "metadata": {},
     "output_type": "display_data"
    },
    {
     "data": {
      "text/plain": "interactive(children=(IntSlider(value=90, description='Rozpiętość:', max=360, step=10), Output()), _dom_classe…",
      "application/vnd.jupyter.widget-view+json": {
       "version_major": 2,
       "version_minor": 0,
       "model_id": "783995f665e741fe91b144d0fd660972"
      }
     },
     "metadata": {},
     "output_type": "display_data"
    },
    {
     "data": {
      "text/plain": "interactive(children=(Checkbox(value=True, description='Filtrowanie'), Output()), _dom_classes=('widget-intera…",
      "application/vnd.jupyter.widget-view+json": {
       "version_major": 2,
       "version_minor": 0,
       "model_id": "eb15b47b77184cfcb578ff5dc96a6c8a"
      }
     },
     "metadata": {},
     "output_type": "display_data"
    },
    {
     "data": {
      "text/plain": "<function __main__.use_filter(x)>"
     },
     "execution_count": 19,
     "metadata": {},
     "output_type": "execute_result"
    }
   ],
   "source": [
    "def use_alfa(x):\n",
    "    global d_a\n",
    "    global d_x\n",
    "    d_a = x * math.pi / 180\n",
    "    d_x =d_a * 180 / math.pi\n",
    "\n",
    "def use_detectors(x):\n",
    "    global n_detect\n",
    "    n_detect = x\n",
    "\n",
    "def use_range_pi(x):\n",
    "    global range_pi\n",
    "    range_pi = x*math.pi/180\n",
    "\n",
    "def use_filter(x):\n",
    "    global filter\n",
    "    filter = x\n",
    "\n",
    "\n",
    "interact(use_alfa, x = widgets.FloatSlider(description='Krok alfa:', min=0.25,max=5.0 , step=0.25,value=d_x))\n",
    "interact(use_detectors, x = widgets.IntSlider(description= 'Liczba detektorów:', min=10,max  = 500, step=10, value=n_detect))\n",
    "interact(use_range_pi, x = widgets.IntSlider(description= 'Rozpiętość:', min=0 , max= 360, step=10, value=range_pi/math.pi/2*180))\n",
    "interact(use_filter, x = widgets.Checkbox(value=True, description='Filtrowanie', indent=filter))"
   ]
  },
  {
   "cell_type": "markdown",
   "id": "3ac7a1b7-8538-4f7d-a5ef-525788ca3098",
   "metadata": {},
   "source": [
    "## **Wykresy**:"
   ]
  },
  {
   "cell_type": "code",
   "execution_count": null,
   "id": "a59d5fa9-146d-49b7-aa3c-992070a28505",
   "metadata": {
    "is_executing": true,
    "ExecuteTime": {
     "start_time": "2024-03-24T13:28:56.410675Z"
    }
   },
   "outputs": [],
   "source": [
    "photo = imageio.imread('CT_ScoutView.jpg', mode = 'F')\n",
    "\n",
    "plt.figure(figsize=(16,16))\n",
    "plt.subplots_adjust(wspace=0.2)\n",
    "sub1 = plt.subplot(131)\n",
    "sub1.set_title(\"Obraz wejściowy\")\n",
    "sub1.set_xticks([],[])\n",
    "sub1.set_yticks([],[])\n",
    "sub1.imshow(photo, cmap='gray')\n",
    "\n",
    "\n",
    "sinogram = radon_transform(photo, d_a, range_pi, n_detect, d_x)\n",
    "\n",
    "xlabels=[i*20 for i in range(10)]\n",
    "sub2 = plt.subplot(132)\n",
    "sub2.set_xticks(np.arange(0, 181/d_x, 20/d_x))\n",
    "sub2.set_xticklabels(xlabels)\n",
    "sub2.set_xlabel(\"Kąt projekcji\")\n",
    "sub2.set_title(\"Sinogram\")\n",
    "sub2.imshow(sinogram, cmap='gray')\n",
    "\n",
    "\n",
    "if filter == True:\n",
    "    sinogram2 = filtration(sinogram)\n",
    "else: \n",
    "    sinogram2 = sinogram\n",
    "constr, projection = back_projection(sinogram2, d_x)\n",
    "\n",
    "sub3 = plt.subplot(133)\n",
    "sub3.set_title(\"Obraz wyjściowy\")\n",
    "sub3.set_xticks([],[])\n",
    "sub3.set_yticks([],[])\n",
    "sub3.imshow(constr, cmap='gray')"
   ]
  },
  {
   "cell_type": "markdown",
   "id": "1e7fcf47-b2f4-4c29-8d84-cd28cfabaa98",
   "metadata": {},
   "source": [
    "## **Iteracyjna prezentacja**\n",
    "Użyjemy suwaka, żeby pokazać rekonstrukcję w iteracji"
   ]
  },
  {
   "cell_type": "code",
   "execution_count": null,
   "id": "c761bc65-8cb1-4641-a319-127990f0c3fa",
   "metadata": {
    "is_executing": true
   },
   "outputs": [],
   "source": [
    "def number_of_iter(iteration):\n",
    "    global plt\n",
    "    num_iter = iteration\n",
    "    \n",
    "    plt.figure(figsize=(10,10))\n",
    "    xlabels = [i * 20 for i in range(10)]\n",
    "\n",
    "    global sub_sinogram_part, sub_reconstruction_part, projection\n",
    "\n",
    "    sinogram2 = np.zeros_like(sinogram)\n",
    "    sinogram2[:, :int(num_iter)] = sinogram[:, :int(num_iter)]\n",
    "\n",
    "    sub_sinogram_part = plt.subplot(121)\n",
    "    sub_sinogram_part.set_xticks(np.arange(0, 181/d_x, 20/d_x))\n",
    "    sub_sinogram_part.set_xticklabels(xlabels)\n",
    "    sub_sinogram_part.set_xlabel(\"Kąt projekcji\")\n",
    "    sub_sinogram_part.set_title(f\"Sinogram po {int(num_iter)} iteracjach\")\n",
    "    sub_sinogram_part.imshow(sinogram2, cmap='gray')\n",
    "\n",
    "    reconstruction = sum(projection[:int(num_iter) + 1])\n",
    "    \n",
    "    sub_reconstruction_part = plt.subplot(122)\n",
    "    sub_reconstruction_part.set_title(f\"Rekonstrukcja po {int(num_iter)} iteracjach\")\n",
    "    sub_reconstruction_part.set_xticks([],[])\n",
    "    sub_reconstruction_part.set_yticks([],[])\n",
    "    sub_reconstruction_part.imshow(reconstruction, cmap='gray')\n",
    "\n",
    "\n",
    "interact(number_of_iter , iteration=widgets.FloatSlider(description='Liczba iteracji:', min=1,max=int(math.ceil(180/d_x)+1),step=1,value=int(math.ceil(180/d_x)+1)))\n",
    "\n",
    "plt.figure(figsize=(10,10))\n",
    "xlabels=[i*20 for i in range(10)]\n",
    "\n",
    "sub_sinogram_full = plt.subplot(121)\n",
    "sub_sinogram_full.set_xticks(np.arange(0, 181/d_x, 20/d_x))\n",
    "sub_sinogram_full.set_xticklabels(xlabels)\n",
    "sub_sinogram_full.set_xlabel(\"Kąt projekcji\")\n",
    "sub_sinogram_full.set_title(\"Cały sinogram\")\n",
    "sub_sinogram_full.imshow(sinogram, cmap='gray')\n",
    "\n",
    "sub_reconstruction_full = plt.subplot(122)\n",
    "sub_reconstruction_full.set_title(\"Cała rekonstrukcja\")\n",
    "sub_reconstruction_full.set_xticks([],[])\n",
    "sub_reconstruction_full.set_yticks([],[])\n",
    "sub_reconstruction_full.imshow(sum(projection), cmap='gray')"
   ]
  },
  {
   "cell_type": "markdown",
   "id": "c9ee6820-7010-4527-9770-9e7e6522b2a8",
   "metadata": {},
   "source": [
    "## **Format Dicom**\n",
    "Odczyt i zapis uzyskanego obrazu w standardzie DICOM wraz z uwzględnieniem (możliwość wprowadzenia z interfejsu)"
   ]
  },
  {
   "cell_type": "markdown",
   "id": "01f0c4d7-9b80-42a5-b59e-f3756e2cdec5",
   "metadata": {},
   "source": [
    "### Odczyt nowego zdjęcia JPG"
   ]
  },
  {
   "cell_type": "code",
   "execution_count": null,
   "id": "77c8d574-8238-47d3-be06-dc03f0b21200",
   "metadata": {
    "is_executing": true
   },
   "outputs": [],
   "source": [
    "new_photo = imageio.imread('CT_ScoutView.JPG', mode='F')\n",
    "sinogram_new = radon_transform(new_photo, d_a, range_pi, n_detect, d_x)\n",
    "\n",
    "interact(use_alfa , x=widgets.FloatSlider(description='Krok alfa:', min=0.25,max=5.0 , step=0.25,value=d_x))\n",
    "interact(use_detectors ,x=widgets.IntSlider (description= 'Liczba detektorów:', min=10,max  = 500, step=10, value=n_detect))\n",
    "interact(use_range_pi ,x = widgets.IntSlider (description= 'Rozpiętość:', min=0 , max= 360, step=10, value=range_pi/math.pi/2*180))\n",
    "interact(use_filter , x =widgets.Checkbox(value=True, description='Filtrowanie', indent=filter))\n",
    "\n",
    "if filter == True:\n",
    "    sinogram_new2 = filtration(sinogram_new)\n",
    "else: \n",
    "    sinogram_new2 = sinogram\n",
    "constr_new, projection_new = back_projection(sinogram_new2, d_x)"
   ]
  },
  {
   "cell_type": "markdown",
   "id": "a52d00ea-39b8-4339-a749-d1207d766042",
   "metadata": {},
   "source": [
    "### Zapis DCM"
   ]
  },
  {
   "cell_type": "code",
   "execution_count": null,
   "id": "d6a34818-5765-4a62-99ac-f88c8d875981",
   "metadata": {
    "is_executing": true
   },
   "outputs": [],
   "source": [
    "def create_dicom(name_patient, date_patient, commentary_patient):\n",
    "    global constr_new  \n",
    "    photo_dcm = (constr_new).astype(np.uint16)\n",
    "\n",
    "    meta = pydicom.Dataset()\n",
    "    meta.MediaStorageSOPClassUID = pydicom._storage_sopclass_uids.MRImageStorage\n",
    "    meta.MediaStorageSOPInstanceUID = pydicom.uid.generate_uid()\n",
    "    meta.TransferSyntaxUID = pydicom.uid.ExplicitVRLittleEndian\n",
    "\n",
    "    Data = pydicom.Dataset()\n",
    "    Data.file_meta = meta\n",
    "    Data.is_little_endian = True\n",
    "    Data.is_implicit_VR = False\n",
    "    Data.SOPClassUID = pydicom._storage_sopclass_uids.MRImageStorage\n",
    "    Data.PatientName = name_patient\n",
    "    Data.StudyDate = date_patient\n",
    "    Data.StudyDescription = commentary_patient\n",
    "    Data.Modality = \"MR\"\n",
    "    Data.SeriesInstanceUID = pydicom.uid.generate_uid()\n",
    "    Data.StudyInstanceUID = pydicom.uid.generate_uid()\n",
    "    Data.FrameOfReferenceUID = pydicom.uid.generate_uid()\n",
    "\n",
    "    Data.BitsAllocated = 16\n",
    "    Data.BitsStored = 16\n",
    "    Data.HighBit = 15\n",
    "    Data.SamplesPerPixel = 1\n",
    "    Data.ImagesInAcquisition = \"1\" \n",
    "    Data.Rows = photo_dcm.shape[0]\n",
    "    Data.Columns = photo_dcm.shape[1]\n",
    "\n",
    "    Data.ImagePositionPatient = r\"0\\0\\1\"\n",
    "    Data.ImageOrientationPatient = r\"1\\0\\0\\0\\-1\\0\"\n",
    "    Data.ImageType = r\"ORIGINAL\\PRIMARY\\AXIAL\"\n",
    "    Data.RescaleIntercept = \"0\"\n",
    "    Data.RescaleSlope = \"1\"\n",
    "    Data.PixelSpacing = r\"1\\1\"\n",
    "    Data.PhotometricInterpretation = \"MONOCHROME2\"\n",
    "    Data.PixelRepresentation = 1\n",
    "\n",
    "    pydicom.dataset.validate_file_meta(Data.file_meta, enforce_standard=True)\n",
    "    Data.PixelData = photo_dcm.tobytes()\n",
    "    Data.save_as(\"DICOM.dcm\")\n",
    "\n",
    "\n",
    "\n",
    "name_patient = \"Adam Nowicki\"\n",
    "date_patient = \"19/03/2024\"\n",
    "commentary_patient = \"Zdjecie z tomografu komputerowego\"\n",
    "\n",
    "create_dicom(name_patient, date_patient, commentary_patient)"
   ]
  },
  {
   "cell_type": "markdown",
   "id": "02200705-5418-4cfc-87a0-a8cfcb72e537",
   "metadata": {},
   "source": [
    "### Odczyt DCM"
   ]
  },
  {
   "cell_type": "code",
   "execution_count": null,
   "id": "13441951-8417-402e-b303-f570602793a4",
   "metadata": {
    "is_executing": true
   },
   "outputs": [],
   "source": [
    "def open_dicom(name_dcm):\n",
    "    information = pydicom.dcmread(name_dcm, force=True)\n",
    "    name_patient = information.PatientName\n",
    "    date_patient = information.StudyDate\n",
    "    commentary_patient = information.StudyDescription\n",
    "    print(\"Informacje\")\n",
    "    print(\"Imie i nazwisko: \", name_patient)\n",
    "    print(\"Data: \", date_patient)\n",
    "    print(\"Komentarz: \", commentary_patient)\n",
    "    plt.imshow(information.pixel_array,cmap=\"gray\")\n",
    "\n",
    "\n",
    "open_dicom(\"DICOM.dcm\")"
   ]
  },
  {
   "cell_type": "markdown",
   "id": "d3368a02-6287-43d7-87ae-b941311e880f",
   "metadata": {},
   "source": [
    "## **Obliczanie błędu średniokwadratowego**"
   ]
  },
  {
   "cell_type": "code",
   "execution_count": null,
   "id": "278e897c-944d-4720-af9d-f1bebfd794d6",
   "metadata": {
    "is_executing": true
   },
   "outputs": [],
   "source": [
    "import numpy as np\n",
    "from skimage.metrics import mean_squared_error\n",
    "\n",
    "def calculate_mse(image1, image2):\n",
    "    return mean_squared_error(image1, image2)\n",
    "\n",
    "def analyze_mse(original_image):\n",
    "    # List to store MSE values\n",
    "    mse_values = []\n",
    "    detectors_number = 180\n",
    "\n",
    "    for i in range(1, 181):\n",
    "        radon_image = radon_transform(original_image, d_a, range_pi, detectors_number, d_x)\n",
    "        reconstructed_image = back_projection(radon_image, d_x)\n",
    "        mse = calculate_mse(original_image, reconstructed_image)\n",
    "        mse_values.append(mse)\n",
    "\n",
    "    return mse_values\n",
    "\n",
    "def analyze_mse_sampling(original_image):\n",
    "    mse_values_sampling = []\n",
    "\n",
    "    for i in range(1, 181):\n",
    "        radon_image = radon_transform(original_image, d_a * i, range_pi * i, n_detect * i, d_x)\n",
    "        reconstructed_image = back_projection(radon_image, d_x)\n",
    "        mse = calculate_mse(original_image, reconstructed_image)\n",
    "        mse_values_sampling.append(mse)\n",
    "\n",
    "    return mse_values_sampling\n",
    "\n",
    "def analyze_mse_filtering(original_image, theta):\n",
    "    mse_values_filtering = []\n",
    "\n",
    "    for i in range(1, 181):\n",
    "        radon_image = radon_transform(original_image, d_a, range_pi, n_detect, d_x)\n",
    "        reconstructed_image = back_projection(filtration(radon_image), d_x)\n",
    "        mse = calculate_mse(original_image, reconstructed_image)\n",
    "        mse_values_filtering.append(mse)\n",
    "\n",
    "    return mse_values_filtering"
   ]
  }
 ],
 "metadata": {
  "kernelspec": {
   "display_name": "Python 3 (ipykernel)",
   "language": "python",
   "name": "python3"
  },
  "language_info": {
   "codemirror_mode": {
    "name": "ipython",
    "version": 3
   },
   "file_extension": ".py",
   "mimetype": "text/x-python",
   "name": "python",
   "nbconvert_exporter": "python",
   "pygments_lexer": "ipython3",
   "version": "3.9.13"
  }
 },
 "nbformat": 4,
 "nbformat_minor": 5
}
